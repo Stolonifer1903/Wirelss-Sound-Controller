{
 "cells": [
  {
   "cell_type": "code",
   "execution_count": 1,
   "metadata": {},
   "outputs": [],
   "source": [
    "import cv2\n",
    "import mediapipe as mp\n",
    "from mediapipe.python.solutions.drawing_utils import draw_landmarks\n",
    "import math\n",
    "from ctypes import cast, POINTER\n",
    "from comtypes import CLSCTX_ALL\n",
    "from pycaw.pycaw import AudioUtilities, IAudioEndpointVolume\n",
    "import numpy"
   ]
  },
  {
   "cell_type": "code",
   "execution_count": 2,
   "metadata": {},
   "outputs": [],
   "source": [
    "devices = AudioUtilities.GetSpeakers()\n",
    "interface = devices.Activate(\n",
    "    IAudioEndpointVolume._iid_, CLSCTX_ALL, None)\n",
    "volume = cast(interface, POINTER(IAudioEndpointVolume))"
   ]
  },
  {
   "cell_type": "code",
   "execution_count": 3,
   "metadata": {},
   "outputs": [],
   "source": [
    "#for webcam input\n",
    "cap = cv2.VideoCapture(0)\n",
    "mpHands = mp.solutions.hands\n",
    "hands = mpHands.Hands()\n",
    "mpDraw = mp.solutions.drawing_utils"
   ]
  },
  {
   "cell_type": "code",
   "execution_count": 4,
   "metadata": {},
   "outputs": [],
   "source": [
    "while True:\n",
    "    success , img =cap.read()\n",
    "    imgRGB = cv2.cvtColor(img , cv2.COLOR_BGR2RGB)\n",
    "    results = hands.process(imgRGB)\n",
    "\n",
    "    if results.multi_hand_landmarks:\n",
    "        for handLms in results.multi_hand_landmarks:\n",
    "            lmList = []\n",
    "            for id ,lm in enumerate(handLms.landmark):\n",
    "                #print(id , lm)\n",
    "                h ,w , c = img.shape\n",
    "                cx ,cy = int(lm.x*w) , int(lm.y*h)\n",
    "                lmList.append([id ,cx, cy])\n",
    "\n",
    "                mpDraw.draw_landmarks(img , handLms ,mpHands.HAND_CONNECTIONS)\n",
    "            \n",
    "        if lmList:\n",
    "            x1 ,y1  = lmList[4][1] , lmList[4][2]\n",
    "            x2, y2  = lmList[8][1], lmList[8][2]\n",
    "            cv2.circle(img , (x1, y1) , 15 ,(132,23,42) , cv2.FILLED )\n",
    "            cv2.circle(img , (x2, y2) , 15 ,(132,23,42) , cv2.FILLED )\n",
    "            cv2.line(img , (x1 , y1) , (x2 , y2) ,(2 , 45 , 123) , 5)\n",
    "\n",
    "            z1 , z2 = (x1+x2)//2 , (y1+y2)//2\n",
    "            length = math.hypot(x2- x1 , y2- y1)\n",
    "            if length<50 :\n",
    "                cv2.circle(img , (z1 ,z2) ,15 , (255 , 255 , 255) ,cv2.FILLED)\n",
    "            \n",
    "            #print(length)\n",
    "            \n",
    "            #volume.GetMute()\n",
    "        volRange  = volume.GetVolumeRange()\n",
    "        minVol = volRange[0]\n",
    "        maxVol = volRange[1]\n",
    "        vol = numpy.interp(length , [50 ,275] , [minVol ,maxVol])\n",
    "        volume.SetMasterVolumeLevel(vol, None)\n",
    "        \n",
    "\n",
    "    cv2.imshow(\"Image\" ,img)\n",
    "    cv2.waitKey(1)"
   ]
  }
 ],
 "metadata": {
  "interpreter": {
   "hash": "a22cc8596c58fbfd430f75276c1348fb222df5b71ef9247cbe3c3f51af39bf64"
  },
  "kernelspec": {
   "display_name": "Python 3.10.4 64-bit",
   "language": "python",
   "name": "python3"
  },
  "language_info": {
   "codemirror_mode": {
    "name": "ipython",
    "version": 3
   },
   "file_extension": ".py",
   "mimetype": "text/x-python",
   "name": "python",
   "nbconvert_exporter": "python",
   "pygments_lexer": "ipython3",
   "version": "3.10.4"
  },
  "orig_nbformat": 4
 },
 "nbformat": 4,
 "nbformat_minor": 2
}
